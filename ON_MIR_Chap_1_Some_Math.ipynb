{
  "nbformat": 4,
  "nbformat_minor": 0,
  "metadata": {
    "kernelspec": {
      "display_name": "Python 3",
      "language": "python",
      "name": "python3"
    },
    "language_info": {
      "codemirror_mode": {
        "name": "ipython",
        "version": 3
      },
      "file_extension": ".py",
      "mimetype": "text/x-python",
      "name": "python",
      "nbconvert_exporter": "python",
      "pygments_lexer": "ipython3",
      "version": "3.7.1"
    },
    "toc": {
      "base_numbering": 1,
      "nav_menu": {},
      "number_sections": true,
      "sideBar": true,
      "skip_h1_title": true,
      "title_cell": "Table of Contents",
      "title_sidebar": "Contents",
      "toc_cell": true,
      "toc_position": {
        "height": "calc(100% - 180px)",
        "left": "10px",
        "top": "150px",
        "width": "165px"
      },
      "toc_section_display": true,
      "toc_window_display": true
    },
    "colab": {
      "provenance": [],
      "include_colab_link": true
    }
  },
  "cells": [
    {
      "cell_type": "markdown",
      "metadata": {
        "id": "view-in-github",
        "colab_type": "text"
      },
      "source": [
        "<a href=\"https://colab.research.google.com/github/ShahidHasib586/MIR-optimization/blob/main/ON_MIR_Chap_1_Some_Math.ipynb\" target=\"_parent\"><img src=\"https://colab.research.google.com/assets/colab-badge.svg\" alt=\"Open In Colab\"/></a>"
      ]
    },
    {
      "cell_type": "markdown",
      "metadata": {
        "id": "qq3fROsrHz8Q"
      },
      "source": [
        "## Introduction: Numerical Optimization\n",
        "\n",
        "This course is intended for Master 1 students in robotics and computer science.\n",
        "\n",
        "Optimization theory is a mathematical framework that allows interpreting and solving a wide range of problems in Optimal Control, Identification, Numerical Analysis, Statistics, Mechanics, etc., using the same principles.\n",
        "\n",
        "For all these problems, the approach will be the same. We need to find a mathematical model to represent the problem and a criterion to optimize. Numerical optimization then helps to find a set of parameters that minimizes this criterion. The solution is not analytical or exact but rather a numerical approximation.\n",
        "\n",
        "The criterion to minimize can be an energy (e.g., in mechanics), a cost, a satisfaction index, a length (shortest path problems), a distance from a desired state (error between a measurement and a desired reference), a time, or any other quantity influenced by the system's parameters.\n",
        "\n",
        "The resolution method depends on the type of model, the criterion, and the parameters. In this course, we will learn to classify problems and explore classical methods for solving them.\n",
        "\n",
        "Typically, we aim to minimize the function:\n",
        "$$f(x) \\quad \\text{with} \\quad x \\in \\mathbb{R}^n$$\n",
        "\n",
        "under the constraints:\n",
        "\\begin{align}\n",
        "c_i(x) &= 0  \\quad \\text{for} \\quad i=1,\\dots,m \\quad \\text{(equality constraints)}\\\\\n",
        "d_j(x) &\\geq 0 \\quad \\text{for} \\quad j=1,\\dots,p \\quad \\text{(inequality constraints)}\n",
        "\\end{align}\n",
        "\n",
        "$f(x)$ is called the cost function, objective criterion, or optimization criterion.\n",
        "\n",
        "This is equivalent to minimizing the function:\n",
        "$$f(x), \\quad x \\in \\Omega \\subset \\mathbb{R}^n$$\n",
        "\n",
        "where $\\Omega$ is the feasible set:\n",
        "$$\\Omega = \\{x \\mid c_i(x) = 0, \\quad i=1,\\dots,m \\quad \\text{and} \\quad d_j(x) \\geq 0, \\quad j=1,\\dots,p \\}$$\n",
        "\n",
        "### Common Challenges\n",
        "\n",
        "Some common difficulties encountered in numerical optimization include:\n",
        "* The existence of local minima;\n",
        "* Non-differentiability;\n",
        "* High computational cost of evaluating the cost function.\n",
        "\n",
        "*In practice, we generally only have local information about the cost function.*\n",
        "\n",
        "---\n",
        "\n",
        "We will implement some of these algorithms in Python, but our main focus will be on understanding the mechanics so that you *can effectively use numerical optimization libraries*.\n",
        "\n",
        "Several software tools include such libraries: Matlab, Scilab, Mathematica, and Python.\n",
        "\n",
        "Most of the algorithms covered in this course are available in the `optimize` library of SciPy. To use it, you need to add the following in your code:\n",
        "\n",
        "```python\n",
        "import scipy.optimize as sp_o\n"
      ]
    },
    {
      "cell_type": "markdown",
      "metadata": {
        "id": "SHSbCXdAE1hR"
      },
      "source": []
    },
    {
      "cell_type": "markdown",
      "metadata": {
        "id": "Gv52W3lqHz8R"
      },
      "source": [
        "\n",
        "\n",
        "\n",
        "\n",
        "## Math reminder\n",
        "\n",
        "If you fill like you need a bit more of this : http://faccanoni.univ-tln.fr/enseignements.html\n",
        "\n",
        "\n",
        "\n",
        "\n",
        "\n"
      ]
    },
    {
      "cell_type": "markdown",
      "metadata": {
        "id": "g4YBw0ByhhYn"
      },
      "source": [
        "### Derivability\n",
        "\n",
        "\n",
        "**Definition**\n",
        "\n",
        "---\n",
        "Let $f$ be a numerical function with real variables. $\\Omega$ is its domain of definition. $I$ is an open interval included in $\\Omega$ and $x_0$ is a point on $I$.\n",
        "\n",
        "$f$ is derivable at $x_0$ if and only if\n",
        "$$ \\underset{h\\to 0}{\\lim} \\frac{f(x_0+h)-f(x_0)}{h}$$ exists in $\\mathbb{R}$ and is finite.\n",
        "This limit is called the derivative of $f$ at $x_0$, and is denoted $f'(x_0)$.\n",
        "\n",
        "---\n",
        "\n",
        "If the function is derivable at $x_0$, geometrically, calculating the derivative is equivalent to calculating the directrix of the tangeant of the curve at the point $x_0$."
      ]
    },
    {
      "cell_type": "markdown",
      "metadata": {
        "id": "QepqnSdrheCi"
      },
      "source": [
        "### Unimodality\n",
        "\n",
        "**Definition\n",
        "\n",
        "---\n",
        "Let f be a numerical function defined on $[a,b]$ and let $x^*$ be the argument of its minimum on the interval.\n",
        "\n",
        "We say that f is unimodal on $[a,b]$ if it is strictly monotonically decreasing on $[a,x^*[$ and strictly monotonically increasing on $]x^*,b]$.\n",
        "\n",
        "---\n",
        "\n",
        "This implies that $\\forall (x_1,x_2) \\in [a,b] | x_1 < x_2$,\n",
        "\n",
        "\\begin{align}\n",
        "    \\mbox{if } & x_1>x^* \\mbox{, then } f(x_1) < f(x_2) \\\\\n",
        "    \\mbox{and if } & x_2<x^* \\mbox{, then } f(x_1) >f(x_2)\n",
        "\\end{align}\n",
        "\n",
        "**An example of a unimodal function**\n",
        "\n",
        "The function $(x-2)^²$ is a unimodal function.\n",
        "\n",
        "I'll take this opportunity to draw it using Python.\n",
        "\n"
      ]
    },
    {
      "cell_type": "code",
      "metadata": {
        "id": "W1uIDhUGHz8S",
        "colab": {
          "base_uri": "https://localhost:8080/",
          "height": 449
        },
        "outputId": "10460bee-6b6b-4769-ab0a-4e8a8b95b132"
      },
      "source": [
        "#import the library\n",
        "import numpy as np\n",
        "import matplotlib.pyplot as plt\n",
        "\n",
        "# here we construct a vector of 100 values\n",
        "# evenly distributed between -2 and 6\n",
        "# this code is interactive: you can change the\n",
        "# values to test\n",
        "x = np.linspace(-2,6,100)\n",
        "\n",
        "# here we call the functions that plot\n",
        "# the curve of f as a function of the values of the vector x\n",
        "plt.plot(x,(x-2)**2)\n",
        "\n",
        "# add text on axis\n",
        "plt.ylabel('$f(x)=(x-2)^2$')\n",
        "plt.xlabel(\"x\")\n",
        "\n",
        "# display the curve\n",
        "plt.show()"
      ],
      "execution_count": null,
      "outputs": [
        {
          "output_type": "display_data",
          "data": {
            "text/plain": [
              "<Figure size 640x480 with 1 Axes>"
            ],
            "image/png": "[encoded data removed]"
          },
          "metadata": {}
        }
      ]
    },
    {
      "cell_type": "markdown",
      "metadata": {
        "id": "bToBQARVHz8W"
      },
      "source": [
        "### Convexity\n",
        "\n",
        "**Definition**\n",
        "\n",
        "---\n",
        "\n",
        "A set $\\Omega \\subset \\mathbb{R}$ is convex if and only if $$x=\\alpha u + (1-\\alpha)v \\in \\Omega, \\forall u, v \\in \\Omega^2 \\mbox{ and }  \\alpha \\in [0,1]$$\n",
        "\n",
        "---\n",
        "\n",
        "**Properties**\n",
        "\n",
        "1) If $\\Omega$ is convex and $\\alpha \\in \\mathbb{R}$ then $\\Psi = \\left\\{ x | x=\\alpha u, u \\in \\Omega \\right \\}$ is convex.\n",
        "\n",
        "2) If $\\Omega_1$ and $\\Omega_2$ are convex, then $\\Psi = \\Omega_1 \\cap \\Omega_2$ is convex and $\\Psi = \\left\\{ x | x= u_1+u_2, u_1 \\in \\Omega_1 \\mbox{ and } u_2 \\in \\Omega_2 \\right \\}$ is convex.\n",
        "\n",
        "**Definition** Convex polytopes and polyhedra\n",
        "\n",
        "---\n",
        "\n",
        "Let $\\mbox{x  be }\\in \\mathbb{R}^n$.\n",
        "\n",
        "The set of $x$ such that $a^Tx=b, a\\in\\mathbb{R}^n$ defines a $n-1$ dimensional hyperplane which divides the space $\\mathbb{R}^n$ into two convex semispaces $H^+$ and $H^-$.\n",
        "\\begin{align}\n",
        "H^+ = \\{ x|a^Tx \\geq b\\}\n",
        "H^- = \\{ x|a^Tx \\leq b\\}\n",
        "\\end{align}\n",
        "\n",
        "---\n",
        "\n",
        "The intersection of a finite number of semispaces is a convex polytope. If it is bounded, it is called a polyhedron. If it is bounded and has two dimensions then it is a polytogone.\n",
        "\n",
        "**Definition** Convex function\n",
        "\n",
        "---\n",
        "A function is convex if its epigraph is a convex set.\n",
        "\n",
        "---\n",
        "\n",
        "**Definition** Convex function\n",
        "\n",
        "---\n",
        "$f:\\Omega \\to \\mathbb{R}$ with $\\Omega \\subset \\mathbb{R}$ is convex if :\n",
        "$forall x,y \\in \\Omega^2 $ and $forall \\alpha \\in[0,1] $\n",
        "$$f(\\alpha x+(1-\\alpha) y) < \\alpha f(x) + (1-\\alpha) f(y)$$\n"
      ]
    },
    {
      "cell_type": "markdown",
      "source": [
        "----\n",
        "\n",
        "### Minimum of a function\n",
        "\n",
        "#### Local minimum\n",
        "\n",
        "**Definition** local minimum\n",
        "\n",
        "---\n",
        "\n",
        "$f:\\Omega \\to \\mathbb{R}$ with $\\Omega \\subset \\mathbb{R}$\n",
        "$f$ has a local minimum at $x^*\\in \\Omega$ if there exists $B(x^*, \\varepsilon) = \\{x| \\Vert x-x^*\\Vert < \\varepsilon\\}$ such that $f(x)\\geq f(x^*) $, $\\forall x\\in(x^*, \\varepsilon)$\n",
        "\n",
        "---\n",
        "\n",
        "#### Local minimum in the strict sense\n",
        "\n",
        "**Definition**\n",
        "\n",
        "---\n",
        "$f:\\Omega \\to \\mathbb{R}$ with $\\Omega \\subset \\mathbb{R}$\n",
        "$f$ has a local minimum at $x^*\\in \\Omega$ if there exists $B(x^*, \\varepsilon) = \\{x|  \\Vert x-x^* \\Vert < \\varepsilon\\}$ such that $f(x)> f(x^*) $, $\\forall x\\in(x^*, \\varepsilon)$ and $x \\neq x^*$.\n",
        "\n",
        "---\n",
        "\n",
        "#### Global minimum\n",
        "\n",
        "**Definition**\n",
        "\n",
        "---\n",
        "$f:\\Omega \\to \\mathbb{R}$ with $\\Omega \\subset \\mathbb{R}$\n",
        "$f$ admits a global minimum in $x^*\\in \\Omega$ if $f(x)\\geq f(x^*) $, $\\forall x\\in \\Omega$\n",
        "\n",
        "---\n",
        "#### Minima of convex functions\n",
        "**Definition**\n",
        "\n",
        "---\n",
        "Let $f:\\Omega \\to \\mathbb{R}$ be a function with $\\Omega \\subset \\mathbb{R}$.\n",
        "if $f$ is convex over $\\Omega$ then every local minimum is a global minimum.\n",
        "\n",
        "---"
      ],
      "metadata": {
        "id": "Rv4PiSd4g6Oo"
      }
    },
    {
      "cell_type": "markdown",
      "metadata": {
        "id": "vNSa-zDCHHCJ"
      },
      "source": [
        "\n",
        "#### Exercise :\n",
        "Show that a local minimum is in fact a global minimum when the function is convex.\n",
        "\n",
        "#### Correction:\n",
        "\n",
        "Let $y=x+z\\in\\Omega$ and $x$ be a local min.\n",
        "\n",
        "We can write\n",
        "\n",
        "$f(x+\\alpha z ) = f(x + \\alpha (y-x))$  avec $\\alpha \\in  [0,1]$\n",
        "\n",
        "and so by rearranging\n",
        "\n",
        "$f(x+\\alpha z ) = f(\\alpha y+(1-\\alpha) x)$\n",
        "\n",
        "and **since f is convex**\n",
        "\n",
        "$f(\\alpha y+(1-\\alpha) x) \\leq \\alpha f(y) +(1-\\alpha) f(x) $\n",
        "\n",
        "\n",
        "Subtracting $f(x)$, we obtain\n",
        "\n",
        "$f(\\alpha y+(1-\\alpha) x)-f(x) \\leq \\alpha (f(y) -f(x))  $\n",
        "\n",
        "Using the initial expression $f(x+\\alpha z )$\n",
        "\n",
        "$f(x+\\alpha z)-f(x) \\leq \\alpha (f(y) -f(x)) $\n",
        "\n",
        "or **since x is a local minimum**, there exists $\\alpha_0 >0 $ such that\n",
        "\n",
        "$f(x+\\alpha_0 z)\\geq f(x)$\n",
        "\n",
        "so\n",
        "there exists $\\alpha_0$ such that\n",
        "\n",
        "$f(x+\\alpha_0 z)-f(x)\\geq 0$\n",
        "\n",
        "so $𝑓(𝑦)-𝑓(𝑥) \\geq 0$\n",
        "\n",
        "so $𝑓(x) \\leq 𝑓(y), \\forall y \\in \\Omega$\n",
        "\n",
        "so $x$ is a global minimim\n",
        "\n",
        "\n",
        "\n",
        "\n",
        "\n",
        "\n"
      ]
    },
    {
      "cell_type": "markdown",
      "metadata": {
        "id": "Iqu_MeGgfbfW"
      },
      "source": [
        "\n",
        "\n",
        "## Mathematical reminders on matrices\n",
        "\n",
        "### Symmetry\n",
        "\n",
        "**Definition**\n",
        "A matrix $A$ is symmetric if $A^T=A$, or $A^T$ is the transpose of $A$.\n",
        "\n",
        "### Positivity\n",
        "\n",
        "**Definition** A matrix $A$ is positive if its eigenvalues are positive. In other words, if and only if $x^TAx>0, \\forall x \\neq 0$.\n",
        "\n",
        "*Notes: The singular values of the square matrix $A$ are the positive square roots of the eigenvalues of the symmetric matrix $A^TA$*.\n",
        "\n",
        "\n",
        "**Property**\n",
        "\n",
        "$A=A^T>0$ avec\n",
        "\n",
        "$A=\\begin{bmatrix}\n",
        "                    a_{11} & \\cdots & a_{1n} \\\\\n",
        "                    \\vdots & \\ddots & \\vdots \\\\\n",
        "                    a_{n1} & \\cdots & a_{nn}\n",
        "\\end{bmatrix}$\n",
        "\n",
        "$\\Leftrightarrow \\lambda_i\\{A\\} >0, i=1, \\cdots, n$\n",
        "\n",
        "$\\Leftrightarrow det\\{A_k\\} >0, k=1, \\cdots, n$ with\n",
        "\n",
        "$A_1=a_{11}$,\n",
        "\n",
        "$A_2=\\begin{bmatrix}\n",
        "                    a_{11} &  a_{12} \\\\\n",
        "                    a_{12} & a_{22}\n",
        "                    \\end{bmatrix}$ ,\n",
        "                    \n",
        "$A_3=\\begin{bmatrix}\n",
        "                    a_{11} & a_{12}  & a_{13} \\\\\n",
        "                    a_{12}  & a_{22}  & a_{23} \\\\\n",
        "                    a_{13} & a_{23}  & a_{33}\n",
        "\\end{bmatrix}$,\n",
        "                    \n",
        "and $A_n=A$\n",
        "\n",
        "### Semi Définie Positive\n",
        "\n",
        "**Définition**\n",
        "\n",
        "---\n",
        "\n",
        "Une matrice $A$ est semi positive si ses valeurs propres sont positives ou nulles.\n",
        "En d'autres termes si et seulement si $x^TAx\\geq0, \\forall x$.\n",
        "\n",
        "---\n",
        "\n",
        "\n",
        "### Rang\n",
        "\n",
        "**Définition**\n",
        "\n",
        "Given two finite-dimensional vector spaces $U$ and $C$, **the rank of an application $A:U \\rightarrow C$** is the dimension of $ImA$ it is also the dimension of the largest square sub-matrix extracted from $A$.\n",
        "\n",
        "Note the rank $rg(A)$. It is also the number of non-zero singular values.\n",
        "\n",
        "\n"
      ]
    },
    {
      "cell_type": "markdown",
      "metadata": {
        "id": "dveMq7Q5fa1O"
      },
      "source": [
        "## Gradient et Hessien\n",
        "\n",
        "### Gradient\n",
        "\n",
        "**Définition**\n",
        "Let f be a function $f : \\mathbb{R}^n \\to \\mathbb{R}$ its gradient is\n",
        "$$ \\nabla f =   \\begin{bmatrix} \\frac{\\partial f}{\\partial x_1}&\\\\\\frac{\\partial f}{\\partial x_2} \\\\ \\vdots \\\\\\frac{\\partial f}{\\partial x_n} \\end{bmatrix} $$\n",
        "\n",
        "### Hessien\n",
        "\n",
        "**Definition**\n",
        "Let f be a function $f : \\mathbb{R}^n \\to \\mathbb{R}$ son Hessien est\n",
        "$$ \\mathbf{H}(x)=\\nabla (\\nabla^T f) =\\begin{bmatrix} \\frac{\\partial^2 f}{\\partial^2 x_1} & \\frac{\\partial^2 f}{\\partial x_1 \\partial x_2}& \\dots & \\frac{\\partial^2 f}{\\partial x_1 \\partial x_n}\\\\\\frac{\\partial^2 f}{\\partial x_2 \\partial x_1}&&& \\vdots \\\\ \\vdots \\\\\\frac{\\partial^2 f}{\\partial x_n \\partial x_1}&\\dots&\\dots&\\frac{\\partial^2 f}{\\partial^2 x_n }\\end{bmatrix} $$\n",
        "\n",
        "### Directional derivative\n",
        "Given a function $f : \\mathbb{R}^n \\to \\mathbb{R}$, the directional derivative of $f$ at point $x$ in direction $d$ is\n",
        "\n",
        "\n",
        "\\begin{align}\n",
        "\\frac{\\partial f}{ \\partial d} (x) &= \\underset{h\\to 0}\\lim  \\frac{f(x+hd)-f(x)}{h}\\\\\n",
        "&= \\frac{d}{dh}f(x+hd)| _{h=0}\\\\\n",
        "&= \\frac{\\partial f}{\\partial x_1} (x+hd) |_{h=0} d_1 + \\dots + \\frac{\\partial f}{\\partial x_n} (x+hd) |_{h=0} d_n\\\\\n",
        "&= \\nabla f(x)d\n",
        "\\end{align}\n",
        "\n",
        "\n",
        "if $\\Vert d  \\Vert = 1$, the **directional derivative** is the **rate of increase** of $f$ in the $d$ direction at the $x$ point.\n",
        "\n",
        " * The rate of increase is maximum in the direction of the gradient.\n",
        " * The gradient indicates the direction of greatest slope.\n",
        "\n",
        "### Contours of a function\n",
        "\n",
        "Let be a function $f : \\mathbb{R}^n \\to \\mathbb{R}$.\n",
        "\n",
        "* $y=f(x)$ defines a surface in $\\mathbb{R}^{n+1}$.\n",
        "\n",
        "* $f(x)=c$, with $c$ constant define **curves** or **contours**.\n",
        "\n",
        "**Definition**\n",
        "A contour of level $c$ is the set of points $S(c)=\\{x|f(x)=c\\}$\n",
        "\n",
        "---\n",
        "#### Rosenbrock function example\n",
        "In the next cell, we'll see how to draw contours in Python.\n",
        "\n",
        "$f(x_1,x_2)=100(x_2-x_1^2)^2+(1-x_1)^2$\n"
      ]
    },
    {
      "cell_type": "code",
      "metadata": {
        "id": "hY5OF_Mifacx",
        "colab": {
          "base_uri": "https://localhost:8080/",
          "height": 286
        },
        "outputId": "d40a4202-66a5-4286-ed04-bf830715090d"
      },
      "source": [
        "import numpy as np\n",
        "import matplotlib.pyplot as plt\n",
        "\n",
        "def rosenbrock(x1,x2) :\n",
        "    \"\"\"Fonction de Rosenbrock a deux variables\"\"\"\n",
        "    return (x2-x1**2)**2+(1-x1)**2\n",
        "\n",
        "x1, x2 = np.meshgrid(np.linspace(-2,2,201),np.linspace(-1,3,201))\n",
        "\n",
        "#trace des lignes de niveaux\n",
        "plt.contour (x1,x2,rosenbrock(x1,x2),np.linspace(0,2,21))\n",
        "plt.colorbar()"
      ],
      "execution_count": null,
      "outputs": [
        {
          "output_type": "execute_result",
          "data": {
            "text/plain": [
              "<matplotlib.colorbar.Colorbar at 0x7fd1e3ee3650>"
            ]
          },
          "metadata": {},
          "execution_count": 1
        },
        {
          "output_type": "display_data",
          "data": {
            "image/png": "[encoded data removed]",
            "text/plain": [
              "<Figure size 432x288 with 2 Axes>"
            ]
          },
          "metadata": {
            "needs_background": "light"
          }
        }
      ]
    },
    {
      "cell_type": "markdown",
      "metadata": {
        "id": "NCQMTrVTieQg"
      },
      "source": [
        "## Taylor and Mean Formulas\n",
        "\n",
        "### Taylor formula\n",
        "\n",
        "**Definition**\n",
        "\n",
        "---\n",
        "Let $f:\\Omega \\in \\mathbb{R}^n \\to \\mathbb{R}$, be an application of class $C^2$.\n",
        "\n",
        "Then\n",
        "\n",
        "$f(x+h)=f(x)+\\nabla f(x)^T h + \\frac{1}{2}h^T f‘’(x) h + o(||h||^2) $\n",
        "\n",
        "---\n",
        "\n",
        "### Taylor formula with integral remainder\n",
        "\n",
        "**Definition**\n",
        "\n",
        "---\n",
        "Let $f:\\Omega \\in \\mathbb{R}^n \\to \\mathbb{R}$ be an application of class $C^1$. If the segment $[x, x+h]$ is included in $\\Omega$,\n",
        "\n",
        "then\n",
        "\n",
        "$f(x+h)=f(x)+ \\int_0^1 \\nabla f(x+th)^T h dt$.\n",
        "\n",
        "---\n",
        "\n",
        "### Average formula\n",
        "\n",
        "**Definition**\n",
        "\n",
        "---\n",
        "Let $f:\\mathbb{R} \\to \\mathbb{R}$, an application of class $C^1$ on the segment $[x,y]$\n",
        "\n",
        "then there exists $z \\in [x,y]$ such that\n",
        "\n",
        "$f(y)=f(x)+ f'(z)(y-x) $\n",
        "\n",
        "---"
      ]
    },
    {
      "cell_type": "markdown",
      "metadata": {
        "id": "_qjeBOhWkhKO"
      },
      "source": [
        "### Proof: the gradient is perpendicular to the contour\n",
        "\n",
        "Let the contour S of level $f(x_0)$ pass through $x_0$.\n",
        "\n",
        "$S=\\{x|f(x)=f(x_0)\\}$\n",
        "\n",
        "Let $\\in S$ be a curve\n",
        "parametrized by\n",
        "$v(t) : \\mathbb{R} \\to \\mathbb{R}^n$\n",
        "where $v(t_0)=x_0$ and $v(t)=x \\in S$.\n",
        "\n",
        "The tangent to this curve is in the direction $\\frac{dv}{dt|t=t_0}$.\n",
        "\n",
        "We have\n",
        "\n",
        "$f(v(t))=f(v(t_0))=f(x_0)$\n",
        "\n",
        "so\n",
        "\n",
        "$\\frac{df}{dt}(v(t))|_{t=t_0}=0$\n",
        "\n",
        "so if we develop\n",
        "\n",
        "$\\frac{\\partial f}{\\partial x_1}(v(t_0))\\frac{dv_1}{dt|t=t_0}+ ... +\\frac{\\partial f}{\\partial x_n}(v(t_0))\\frac{dv_n}{dt|t=t_0}=0$\n",
        "\n",
        "so\n",
        "\n",
        "$\\nabla f^T(x_0)\\frac{dv}{dt|t=t_0}=0 $\n",
        "\n",
        "and therefore\n",
        "$\\nabla f^T(x_0) \\perp S$ en $x_0$, $\\forall x_0$\n"
      ]
    },
    {
      "cell_type": "markdown",
      "metadata": {
        "id": "5AmkacAplZPM"
      },
      "source": [
        "### Convexity and first derivability\n",
        "\n",
        "given a function $f:\\Omega \\to \\mathbb{R}$ with $f\\in C^1$ and $\\Omega \\in \\mathbb{R}^n$ convex, then $f$ is convex if\n",
        "$$f(y)\\geq f(x)+\\nabla f^T(x)(y-x), \\forall x, y\\in \\Omega^2$$\n",
        "\n",
        "### Convexity and second derivability\n",
        "\n",
        "given a function $f:\\Omega \\to \\mathbb{R}$ with $f\\in C^2$ and $\\Omega \\in \\mathbb{R}^n$ convex, then $f$ is convex if\n",
        "$$(y-x)^T H(x)(y-x)\\geq 0, \\forall x, y\\in \\Omega^2$$\n",
        "\n",
        "**Corollary**\n",
        "If $\\Omega \\in \\mathbb{R}^n$ is a convex open\n",
        "Then $f$ is convex if\n",
        "$$H(x)\\geq 0, \\forall x \\in \\Omega$$\n",
        "\n"
      ]
    },
    {
      "cell_type": "markdown",
      "metadata": {
        "id": "QCXF3cXgHz8b"
      },
      "source": [
        "\n",
        "## Necessary conditions for the existence of a minimum\n",
        "\n",
        "To find a minimum, almost all the methods below start from the following point of view: we know a point $x_0$ and the value $f(x_0)$; by moving locally from $x_0$ we can determine whether $f$ is increasing or decreasing. Since the simplest move is a straight line, we will make small moves from $x_0$ in directions $d$, trying to improve the value of $f$.\n",
        "\n",
        "\n",
        "### Eligible directions\n",
        "**Definition**\n",
        "\n",
        "An admissible direction at $x_0$ is a vector $d$ along which we can move from $x_0$ while remaining in $\\Omega$.\n",
        "\n",
        "---\n",
        "$d\\in \\mathbb{R}^n, d\\neq 0$ is an **admissible direction at a point $x$** if there exists $\\eta>0$ such that $x+\\alpha d\\in\\Omega, \\forall \\alpha \\in [0,\\eta]$ $.\n",
        "\n",
        "---\n",
        "\n",
        "The set of admissible directions at $x_0$ is sometimes referred to as $D^{ad}(x_0)$.\n",
        "\n",
        "Let $d \\in D^{ad}(x_0)$, if there exists $\\gamma < \\alpha $ such that $\\forall t \\in[0,\\gamma]$, we have $f(x_0+td)<f(x_0)$, the admissible direction $d$ is a descent direction.\n",
        "\n",
        "**Note** *If $x$ is an interior point then all directions are admissible.\n",
        "\n",
        "\n",
        "\n",
        "\n",
        "\n",
        "\n",
        "\n",
        "\n",
        "\n"
      ]
    },
    {
      "cell_type": "markdown",
      "metadata": {
        "id": "Yt7Ob5rmn631"
      },
      "source": [
        "### Necessary conditions of the first order\n",
        "Let $f:\\Omega \\to \\mathbb{R} \\Omega \\subset \\mathbb{R}^n f\\in C^1$\n",
        "\n",
        "If $f$ has a local minimum in $x^*\\in \\Omega$ then $\\forall d$ admissible in $x^*$\n",
        "$$d^T\\nabla f(x^* )\\geq 0$$\n",
        "\n",
        "The rate of increase is positive.\n",
        "\n",
        "**Corollary** Case of the interior point:\n",
        "\n",
        "\n",
        "Let $f:\\Omega \\to \\mathbb{R} \\Omega \\subset \\mathbb{R}^n f\\in C^1$\n",
        "\n",
        "If $x^*$ minimizes $f$ locally and if $x^*$ is an interior point of $\\Omega$ then\n",
        "$$\\nabla f(x^*)=0$$"
      ]
    },
    {
      "cell_type": "markdown",
      "metadata": {
        "id": "DAbNMIO7oEEC"
      },
      "source": [
        "**Demonstration**\n",
        "\n",
        "$d^T \\nabla f(x^*) \\geq 0, \\forall d \\in \\mathbb R^n$\n",
        "\n",
        "so\n",
        "\n",
        "$ d^T \\nabla f(x^*) \\geq 0$\n",
        "and\n",
        "$-d^T \\nabla f(x^*) \\geq 0, \\forall d \\in \\mathbb R^n$\n",
        "\n",
        "so\n",
        "$\\nabla f(x^*) = 0$\n",
        "\n",
        "\n"
      ]
    },
    {
      "cell_type": "markdown",
      "metadata": {
        "id": "3hdFOtdWnfdl"
      },
      "source": [
        "### Second-order necessary conditions\n",
        "\n",
        "\n",
        "Let $f:\\Omega \\to \\mathbb{R}, \\Omega \\subset \\mathbb{R}^n \\mbox{ and } f\\in C^2$\n",
        "\n",
        "$f$ reaches a local minimum at $x^*$ and $d$ is an admissible direction\n",
        "\n",
        "if\n",
        "$d^T\\nabla f(x^*)=0 \\mbox{ then } d^T H(x^*)d>0$\n",
        "\n",
        "\n",
        "**Corollary** Case of the interior point:\n",
        "\n",
        "\n",
        "Let $f:\\Omega \\to \\mathbb{R} \\Omega \\subset \\mathbb{R}^n $ and $f\\in C^2$.\n",
        "\n",
        "If $x^*$ is an interior point of $\\Omega$ and $x^*$ minimizes $f$, then\n",
        "\\begin{align}\n",
        "  \\nabla f(x^*) &= 0\\\\\n",
        "  H(x^*) &\\geq 0\n",
        "\\end{align}"
      ]
    },
    {
      "cell_type": "markdown",
      "metadata": {
        "id": "WyBIN02bpmTM"
      },
      "source": [
        "**Demonstration**\n",
        "\n",
        "Let $x^*$ be the abscissa of a minimum, and let $\\alpha \\in \\mathbb{R}^+ $ be $.\n",
        "\n",
        "Let $x = x^*+\\alpha d$\n",
        "\n",
        "The limited expansion can be written as\n",
        "\n",
        "$f(x)=f(x^*)+\\frac{df(x)}{d\\alpha}|_{a=0} \\alpha + \\frac{d^2f(x)}{d^2\\alpha}|_{a=0} \\frac{\\alpha^2}{2}+ O(\\alpha^2)$\n",
        "\n",
        "Which can be written as  \n",
        "\n",
        "$f(x)=f(x^*)+\\nabla f^T(x^*)d\\alpha + d^T H(x^*) d \\frac{\\alpha^2}{2}+ O(\\alpha^2)$\n",
        "\n",
        "\n",
        "And since $\\nabla f^T(x^*)=0 $ then\n",
        "\n",
        "$f(x)=f(x^*)+ d^T H(x^*) d \\frac{\\alpha^2}{2}+ O(\\alpha^2)$\n",
        "\n",
        "\n",
        "By the absurd, if $H(x^*)<0$ then\n",
        "\\exists \\alpha | f(x)<f(x^*)$.\n",
        "\n",
        "Therefore $H(x^*)\\geq0$.\n",
        "\n",
        "\n",
        "\n"
      ]
    },
    {
      "cell_type": "markdown",
      "metadata": {
        "id": "pvKTQQi6nf3R"
      },
      "source": [
        "## Sufficient conditions for the existence of a minimum\n",
        "\n",
        "\n",
        "Let $f:\\Omega \\to \\mathbb{R} \\Omega \\subset \\mathbb{R}^n f\\in C^2$ and $x^*$ is an interior point of $\\Omega$.\n",
        "\n",
        "If\n",
        "\\begin{align}\n",
        "  \\nabla f(x^*) &= 0\\\\\\\n",
        "  H(x^*) &> 0\n",
        "\\end{align}\n",
        "\n",
        "Then $f$ has a local minimum in the strict sense at $x^*$.\n",
        "\n",
        "**Corollary** Case of convex functions\n",
        "\n",
        "Let $f \\in C^2$, $f$ convex, $f : \\Omega \\to \\mathbb{R} \\Omega \\subset \\mathbb{R} ^n$ convex\n",
        "Then $f$ has a global minimum at $x^* \\in \\Omega$.\n",
        "\n",
        "1. if $\\nabla f ^T(x^*)(y-x^*)\\geq 0 \\forall y \\in \\Omega$\n",
        "$$iff \\nabla f ^T (x^*)d \\geq 0, \\forall \\mbox{ admissible direction d}$$\n",
        "\n",
        "2. if $\\nabla f ^T(x^*)=0$ if $x^* $ is an interior point of $\\Omega$."
      ]
    },
    {
      "cell_type": "markdown",
      "metadata": {
        "id": "V7dkOa8NHz8b"
      },
      "source": [
        "## Structure of an iterative algorithm\n",
        "\n",
        "\n",
        "### Definition: Algorithm\n",
        "\n",
        "This is an application $F$ of a space $\\Omega$ in itself. The flow of this algorithm from the initial condition $x^0$ will be of the form\n",
        "\n",
        "\\begin{equation}\n",
        "x_0 \\in \\Omega | x_k \\Rightarrow F(x_k), k = 1, 2, 3,...  \n",
        "\\end{equation}\n",
        "\n",
        "### Python: classic structure of an iterative algorithm"
      ]
    },
    {
      "cell_type": "code",
      "metadata": {
        "id": "SbVFXXQIHz8c",
        "colab": {
          "base_uri": "https://localhost:8080/",
          "height": 106
        },
        "outputId": "b29e4b26-f044-4b7f-f6c2-b245b0fb0488"
      },
      "source": [
        "def algo (F , x0 , ... , tol =1 e -6 , Niter =1000) :\n",
        "    # Initialisation\n",
        "    xn = x0 # first element of the list\n",
        "    L = [] # the list [x_0 , ... x_{n -1}] , empty\n",
        "\n",
        "    # Principal Loop\n",
        "    for n in range ( Niter ) : # avoid while\n",
        "        if ... < tol : # tolerance criteria\n",
        "            return xn , L # return the list [x_0 , ... x_{n -1}].\n",
        "        L . append ( xn ) # Else , add xn to the list ,\n",
        "        xn = ... # then update xn with the iterative formula\n",
        "\n",
        "    print (\" Error :  \", Niter , \" iterations \")"
      ],
      "execution_count": null,
      "outputs": [
        {
          "output_type": "error",
          "ename": "SyntaxError",
          "evalue": "invalid syntax (<ipython-input-2-ac35017c0cb7>, line 1)",
          "traceback": [
            "\u001b[0;36m  File \u001b[0;32m\"<ipython-input-2-ac35017c0cb7>\"\u001b[0;36m, line \u001b[0;32m1\u001b[0m\n\u001b[0;31m    def algo (F , x0 , ... , tol =1 e -6 , Niter =1000) :\u001b[0m\n\u001b[0m                       ^\u001b[0m\n\u001b[0;31mSyntaxError\u001b[0m\u001b[0;31m:\u001b[0m invalid syntax\n"
          ]
        }
      ]
    },
    {
      "cell_type": "markdown",
      "metadata": {
        "id": "R1QL896HHz8f"
      },
      "source": [
        "#### Convergence\n",
        "\n",
        "An algorithm is said to **converge** if the sequence of values it generates tends towards a desired limit in the space under consideration.\n",
        "\n",
        "\n",
        "#### Speed of Convergence\n",
        "\n",
        "##### Speed of linear convergence\n",
        "\n",
        "If $ \\underset{k \\to +\\infty}{lim \\sup} \\frac{\\Vert{x^{k+1}-x^*}\\Vert}{\\Vert{x^{k}-x^*}\\Vert}\\longrightarrow \\alpha <1$\n",
        "\n",
        "we say that **convergence is linear** and the **rate of convergence** is $\\alpha$\n",
        "\n",
        "##### Superlinear convergence speed\n",
        "\n",
        "If $ \\underset{k \\to +\\infty}{\\lim \\sup} \\frac{\\Vert{x^{k+1}-x^*}\\Vert}{\\Vert{x^{k}-x^*}\\Vert}=0$\n",
        "\n",
        "we say that **convergence is superlinear**.\n",
        "\n",
        "\n",
        "##### Speed of superlinear convergence of order $\\gamma$\n",
        "If $ \\underset{k \\to +\\infty}{\\lim \\sup} \\frac{\\Vert{x^{k+1}-x^*}\\Vert}{\\Vert{x^{k}-x^*}\\Vert^\\gamma}=M<+\\infty$\n",
        "\n",
        "we say that **convergence is superlinear of order $\\gamma$** and in particular, if $\\gamma =2$, we speak of **quadratic convergence speed**.\n"
      ]
    },
    {
      "cell_type": "markdown",
      "metadata": {
        "id": "hx2pn-7uHz8f"
      },
      "source": [
        "# Unconstrained methods\n",
        "### One-dimensional problems\n",
        "\n",
        "\n",
        "The problems are of the form\n",
        "$$\\min{ f(x)}, x \\in \\mathbb{R}$$\n",
        "\n",
        "* One-dimensional search methods\n",
        "* Gradient methods\n",
        "* Conjugate direction methods\n",
        "* Newton's methods and Levenberg Marquardt's method\n",
        "* Quasi-Newton methods\n",
        "* Non-gradient methods\n",
        "* Solving non-linear equations.\n",
        "\n",
        "### One-dimensional search methods\n",
        "\n",
        "Assumption: $f$ is unimodal on $[a,b]$.\n",
        "\n",
        "These methods are only valid for functions :\n",
        "* with real values,\n",
        "* for which we know an interval over which it has a unique minimum.\n",
        "\n",
        "\n"
      ]
    },
    {
      "cell_type": "markdown",
      "metadata": {
        "id": "hXzBuZS7Hz8g"
      },
      "source": [
        "#### Dichotomy methods\n",
        "\n",
        "This method requires two evaluations of the cost function and has a linear convergence speed $\\alpha=\\frac{1}{2}$.\n",
        "\n",
        "Let there be 5 points $a= x_1 < x_2 < x_3 < x_4 < x_5 = b$.\n",
        "\n",
        "The 3 intermediate points are chosen as follows\n",
        "* $x_3$ as the midpoint of $[a,b]$: $x_3=\\frac{a+b}{2}$.\n",
        "* $x_2$ as the midpoint of $[a,x_3]$: $x_2=\\frac{a+x_3}{2}$.\n",
        "* $x_4$ as the midpoint of $[x_3,b]$: $x_4=\\frac{x_3+b}{2}$.\n",
        "\n",
        "*Exercise: Draw a picture to describe the possible cases*.\n",
        "\n",
        "Unless the solution lies on one of the bounds of the interval, we will always have a triplet which we will denote $(y_1,y_3,y_5)$, such that $(f(y_1)> f(y_3)< f(y_5))$, and the optimal solution $x^*$ necessarily belongs to the interval $[y_1, y_5]$ which is strictly included in $[x_1, x_5]$, i.e. $[a,b]$.\n",
        "\n",
        "In most cases, the new interval $[y_1,y_5]$ is half of $[x_1, x_5]$ because two quarters have been removed.\n",
        "\n",
        "New intermediate points are then determined using the same principle to ensure that the algorithm is regular:\n",
        "* $y_3$ as the midpoint of $[y_1,y_5]$: $y_3=frac{y_1+y_5}{2}$.\n",
        "* $y_2$ as the midpoint of $[y_1,y_3]$: $y_2=\\frac{y_1+y_3}{2}$.\n",
        "* $y_4$ as the midpoint of $[y_3,y_5]$: $y_4=\\frac{y_3+y_5}{2}$.\n",
        "\n",
        "After $n$ iterations of the function $f$, the original interval will have been reduced by a factor of $2^{(n-3)/2}$."
      ]
    },
    {
      "cell_type": "markdown",
      "metadata": {
        "id": "VstAfWiSHz8h"
      },
      "source": [
        "#### Golden section method\n",
        "\n",
        "This method requires an evaluation of the cost function and has a linear convergence speed of $\\alpha=\\frac{\\sqrt{5}-1}{2}$."
      ]
    },
    {
      "cell_type": "markdown",
      "metadata": {
        "id": "u_i7g7tBHz8h"
      },
      "source": [
        "This method is almost the same as the previous one except that the intervals chosen are of different sizes.\n",
        "Instead of dividing the uncertainty interval into 4, we divide it into 3 $I=[x_1, x_2]\\bigcup[x_2,x_3]\\bigcup[x_3,x_4]$ . At each iteration, we therefore only have an evaluation of the additional cost function.\n",
        "\n",
        "If we denote $L^k = L([{x_1}^k,{x_4}^k])$ the length of the uncertainty interval at an iteration $k$. We want $\\frac{L^{k+1}}{L_k}=\\gamma<1$, so $[{x_1}^k,{x_2}^k]$ and $[{x_3}^k,{x_4}^k]$ must be the same length. This means that ${x_2}^k$ and ${x_3}^k$ are symmetrical about the midpoint of the interval $[{x_1}^k,{x_4}^k]$.\n",
        "\n",
        "Then\n",
        "$${x_2}^k - {x_1}^k = {x_4}^k-{x_3}^k = \\rho( {x_1}^k,{x_4}^k) | \\rho <1$$\n",
        "If\n",
        "$$ f({x_2}^k) < f({x_3}^k)\\mbox{ alors }x^* \\in [{x_1}^k,{x_3}^k] $$\n",
        "Else if\n",
        "$$ f({x_2}^k) \\geq f({x_3}^k)\\mbox{ alors }x^* \\in [{x_2}^k,{x_4}^k] $$\n",
        "\n",
        "Let $\\rho = {1}/{2(\\sqrt{5}-1 )}$.\n"
      ]
    },
    {
      "cell_type": "markdown",
      "metadata": {
        "id": "kZ1ZSF1nHz8i"
      },
      "source": [
        "\n",
        "#### Fibonnacci sequence method\n",
        "\n",
        "In this method, $\\rho$ is modified at each iteration to maximise the speed of convergence.\n",
        "\\begin{align}\n",
        "\\rho^1&=1-\\frac{R_N}{R_{N+1}}\\\\\n",
        "\\rho^2&=1-\\frac{R_{N-1}}{R_{N}}\\\\\n",
        "\\vdots &\\\\\n",
        "\\rho^k&=1-\\frac{R_{N-k+1}}{R_{N-k}}\\\\\n",
        "\\vdots &\\\\\n",
        "\\rho^N&=1-\\frac{R_1}{R_{2}}\\\\\n",
        "\\end{align}\n",
        "\n",
        "where $R_k$ is the Fibonnacci suite\n",
        "$$\\left\\{\n",
        " \\begin{eqnarray}\n",
        "    R_{k+1}&=&R_k+R_{k-1}\\\\\n",
        "    R_{0}&=&1\\\\\n",
        "    R_{-1}&=&0\n",
        " \\end{eqnarray}\n",
        "\\right.\n",
        "$$"
      ]
    },
    {
      "cell_type": "markdown",
      "metadata": {
        "id": "zCIw2dHqHz8i"
      },
      "source": [
        "## Equation solving in 1 dimension"
      ]
    },
    {
      "cell_type": "markdown",
      "metadata": {
        "id": "2FcTLWW06NFQ"
      },
      "source": [
        "*Note that these methods do not allow you to find a minimum but to find zeros.\n",
        "\n",
        "\n",
        "\n"
      ]
    },
    {
      "cell_type": "markdown",
      "metadata": {
        "id": "yWvdlBnBHz8j"
      },
      "source": [
        "#### Newton Raphson method\n",
        "\n",
        "Let $f$ be a function of the real variable, once continuously derivable, which we note: $f\\in C^1(\\mathbb{R})$, **which we know admits at least one zero**."
      ]
    },
    {
      "cell_type": "markdown",
      "metadata": {
        "id": "hvEc0vVZHz8j"
      },
      "source": [
        "If we know the values of $f$ and its derivative $f'$ at a point $x_0$, the function can be linearised around the point $x_0$ using Taylor expansion to order 1\n",
        "$$\n",
        "g(x) = f(x_0)+f'(x_0)(x-x_0)\n",
        "$$\n",
        "\n",
        "g$ is affine at $x$ and we can calculate its unique zero\n",
        "\n",
        "\\begin{align}\n",
        "       g(x_1)&=0\n",
        " \\iff 0 &= f(x_0)+f'(x_0)(x_1-x_0)\\\\\\\n",
        " \\iff x_1 &= x_0-\\frac{f(x_0)}{f'(x_0)}\n",
        "\\end{align}\n",
        "\n",
        "By iterating the procedure, we find the sequence $x_k$ which converges to $0$ under certain conditions.\n",
        "\n",
        "**Theorem 1**\n",
        "Suppose $f\\in C^2$ and call $x^*$ a zero of $f$. Then if $f'(x^*)\\neq 0$ and $x^{0}$\n",
        "is close enough to $x^*$, the sequence generated by Newton's method converges to $x^*$ and the speed of convergence is quadratic\n"
      ]
    },
    {
      "cell_type": "markdown",
      "metadata": {
        "id": "A-mPriSlHz8k"
      },
      "source": [
        "#### Secant method\n",
        "\n",
        "The derivative of the function $f$ is not always available. It is then possible to work from an approximation.\n",
        "\n",
        "To do this, we need two initial values $x_0$ and $x_1$ and the corresponding values of $f$. As before, the function $f$ is approximated by the affine function $g$ which passes through the points $(x_0, f(x_0))$ and $(x_1, f(x_1))$. We then define the new point $x_2$ as follows\n",
        "\n",
        "$$\n",
        "  x_2 = x_1 - \\frac{x_1-x_0}{f(x_1)-f(x_0)}f(x_1)\n",
        "$$\n",
        "\n",
        "**Algorithm\n",
        "More generally, with starting points $x_0$ and $x_1$ we define\n",
        "$$\n",
        "  x_{k+1} = x_k - \\frac{x_k-x_{k-1}}{f(x_k)-f(x_{k-1})}f(x_{k-1})\n",
        "$$\n",
        "recurrence that can be stopped by testing the number of iterations or the proximity between two successive values.\n"
      ]
    },
    {
      "cell_type": "markdown",
      "metadata": {
        "id": "UvJRM8GOHz8k"
      },
      "source": [
        "### Case of a non-derivable function\n",
        "\n",
        "1. Use finite differences instead of derivatives\n",
        "2. Golden number or Fibonacci sequence method if an interval where the function is monotonic has been identified.\n",
        "3. Three-point quadratic interpolation with minimum search."
      ]
    }
  ]
}
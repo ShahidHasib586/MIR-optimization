{
  "nbformat": 4,
  "nbformat_minor": 0,
  "metadata": {
    "kernelspec": {
      "display_name": "Python 3",
      "language": "python",
      "name": "python3"
    },
    "language_info": {
      "codemirror_mode": {
        "name": "ipython",
        "version": 3
      },
      "file_extension": ".py",
      "mimetype": "text/x-python",
      "name": "python",
      "nbconvert_exporter": "python",
      "pygments_lexer": "ipython3",
      "version": "3.7.1"
    },
    "toc": {
      "base_numbering": 1,
      "nav_menu": {},
      "number_sections": true,
      "sideBar": true,
      "skip_h1_title": true,
      "title_cell": "Table of Contents",
      "title_sidebar": "Contents",
      "toc_cell": true,
      "toc_position": {
        "height": "calc(100% - 180px)",
        "left": "10px",
        "top": "150px",
        "width": "165px"
      },
      "toc_section_display": true,
      "toc_window_display": true
    },
    "colab": {
      "provenance": [],
      "include_colab_link": true
    }
  },
  "cells": [
    {
      "cell_type": "markdown",
      "metadata": {
        "id": "view-in-github",
        "colab_type": "text"
      },
      "source": [
        "<a href=\"https://colab.research.google.com/github/ShahidHasib586/MIR-optimization/blob/main/MIR/ON_MIR_Chapitre_1_Practical_1.ipynb\" target=\"_parent\"><img src=\"https://colab.research.google.com/assets/colab-badge.svg\" alt=\"Open In Colab\"/></a>"
      ]
    },
    {
      "cell_type": "markdown",
      "metadata": {
        "id": "MGynlzvXv3-c"
      },
      "source": [
        "# Some Python\n",
        "\n",
        "To remind you of useful syntax in Python, I recommend [the introductory course to programming with Python by G. Faccianoni].(http://faccanoni.univ-tln.fr/user/enseignements/20192020/PIM11_L1_NEW.pdf)\n",
        "\n",
        "\n",
        "\n",
        "\n",
        "\n",
        "1. write a comment in python : You will write your first and last name at the beginning of the file.\n",
        "2. display a text: ‘Welcome to the numerical optimisation course’.\n",
        "3. define a variable: x which is 36.3\n",
        "4. Define a list: {3,5,7,8, 2, 1}.\n",
        "5. access and display its 3rd element\n",
        "6. define a matrix and display its inverse\n",
        "7. use the plot functions to display the curve (x-2)^2 on the interval [0,4].\n",
        "8. define a function that returns (x-2)^2\n",
        "9. use this function to calculate the value of (6.3-2)^2\n",
        "\n",
        "\n",
        "\n",
        "\n"
      ]
    },
    {
      "cell_type": "markdown",
      "metadata": {
        "id": "D-RXKHmctZtS"
      },
      "source": [
        "# Unidimensional functions\n",
        "\n",
        "\n",
        "#Ex1\n",
        "Plot these functions and there derivative using python :\n",
        "\n",
        "a) $f(x)=x^2-2$\n",
        "\n",
        "b) $g(x)=\\frac{1}{3}(x-1)^3$\n",
        "\n",
        "d) $h(x)=\\frac{1}{2}(x-\\sqrt{2})$\n",
        "\n",
        "e) $i(x)=\\frac{1}{8}(e^{4(x-\\sqrt{2})}-1)$"
      ]
    },
    {
      "cell_type": "markdown",
      "source": [
        "##Ex2\n",
        "\n",
        "Create a function that numerically approximate the derivative. Use it on the functions of Ex1 and plot the results with regards to the true derivative on the same graph.\n"
      ],
      "metadata": {
        "id": "lbIBYA2PbuQT"
      }
    },
    {
      "cell_type": "markdown",
      "metadata": {
        "id": "-eNOnW6EtZtZ"
      },
      "source": [
        "##  Unidimensional search\n",
        "\n",
        "Test dichotomy and golden section on the functions of exercice 1.\n",
        "\n",
        "a) pour $a = 0$ et $b=3$\n",
        "\n",
        "b) pour $a = -3$ et $b=3$\n",
        "\n",
        "c) pour $a = -2$ et $b=3$"
      ]
    },
    {
      "cell_type": "markdown",
      "metadata": {
        "id": "3fVN0GVYtZtf"
      },
      "source": [
        "\n",
        "\n",
        "## Solving 1d equations\n",
        "\n",
        "## Ex1\n",
        "1) Plot $$p=\\prod_{i=1}^4(x-1/(i+1))$$\n",
        "2) Test Newton Raphson algorithm, and look for the zeors of this function\n",
        "\n",
        "\n",
        "\n"
      ]
    },
    {
      "cell_type": "markdown",
      "source": [
        "##Ex2\n",
        "Check the KKT condition for the following problem, and solve it.\n",
        "\n",
        "\\begin{align}\n",
        "    \\min f(x) &= (x_1-1)^2 + x_2 - 2\\\\\n",
        "    \\mbox{with } h(x)&= x_2-x_1-1=0 \\\\\n",
        "    \\mbox{and } c(x)&=x_1+x_2-4 \\leq 0\n",
        "\\end{align}"
      ],
      "metadata": {
        "id": "4hcAj8XEcern"
      }
    },
    {
      "cell_type": "markdown",
      "metadata": {
        "id": "bplHivor4EJu"
      },
      "source": [
        "## Ex 3 🇰find the square root\n",
        "\n",
        "$x= \\sqrt{a}$ ($a\\in \\mathbb{R^+})$\n",
        "\n",
        "so we define the cost $f(x) = x^2-a$ and we search for positive roots.\n",
        "\n",
        "1) Newton Raphson\n",
        "\n",
        "2) For  $a = 2$, starting from $x_0$ = 1,\n",
        "1) Mettre en oeuvre la méthode de Newton Raphson sur cet exemple\n",
        "\n",
        "2) Pour $a = 2$, en partant de $x_0$ = 1, calculer numériquement $x_1$, $x_2$, $x_3$.\n",
        "\n",
        "3) Que dire de la qualité obtenue ?"
      ]
    },
    {
      "cell_type": "markdown",
      "metadata": {
        "id": "ZTg597Yg4ETo"
      },
      "source": [
        "#Ex 4\n",
        "\n",
        "\n",
        " We have a simplified model of water absorption, where I is the light intensity of a measured pixel, it is a real value between 0 and 1, Id is the intensity of the pixel we would observe without water deformation. b is the overall color of the backscatter. These are also reals between O and 1. β and γ are positive reals.\n",
        "\n",
        "\\begin{equation}\n",
        "   I = I_d e^{-\\beta z} + b (1- e^{-\\gamma z})\n",
        "\\end{equation}"
      ]
    }
  ]
}